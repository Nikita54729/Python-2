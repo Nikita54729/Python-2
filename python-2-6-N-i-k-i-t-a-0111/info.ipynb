{
 "cells": [
  {
   "cell_type": "markdown",
   "metadata": {},
   "source": [
    "### **Content**\n",
    "1. [The Figure](#1)\n",
    "2. [Subplots](#2)\n",
    "3. [Line Plots](#3)\n",
    "    - [Exercise 1](#ex1)\n",
    "4. [Bar Plots](#4)\n",
    "    - [Exercise 2](#ex2)\n",
    "5. [Tick Labels and Axis Labels](#5)\n",
    "    - [Exercise 3](#ex3)"
   ]
  },
  {
   "cell_type": "code",
   "execution_count": null,
   "metadata": {
    "_cell_guid": "b1076dfc-b9ad-4769-8c92-a6c4dae69d19",
    "_uuid": "8f2839f25d086af736a60e9eeb907d3b93b6e0e5"
   },
   "outputs": [],
   "source": [
    "import matplotlib.pyplot as plt\n",
    "\n",
    "import numpy as np\n",
    "import pandas as pd\n",
    "import seaborn as sns"
   ]
  },
  {
   "cell_type": "markdown",
   "metadata": {},
   "source": [
    "### **Dataset**\n",
    "\n",
    "Прежде чем начать, создадим пример данных для отрисовки."
   ]
  },
  {
   "cell_type": "code",
   "execution_count": null,
   "metadata": {},
   "outputs": [],
   "source": [
    "np.random.seed(0)\n",
    "\n",
    "df = pd.DataFrame(data={'a':np.random.randint(0, 100, 30),\n",
    "                        'b':np.random.randint(0, 100, 30),\n",
    "                        'c':np.random.randint(0, 100, 30)})\n",
    "df.head()"
   ]
  },
  {
   "cell_type": "markdown",
   "metadata": {},
   "source": [
    "# 1. ФИГУРА (FIGURE)\n",
    "\n",
    "Figure выполняет функцию контейнера для графика. Она содержит в себе свойства, такие как размер (`figsize`), и методы, такие как `Figure.show()` и `Figure.save_fig()`.\n",
    "Каждый раз при вызове функции `matplotlib.pyplot.figure` будет создаваться новый объект figure."
   ]
  },
  {
   "cell_type": "code",
   "execution_count": null,
   "metadata": {},
   "outputs": [],
   "source": [
    "fig = plt.figure()"
   ]
  },
  {
   "cell_type": "code",
   "execution_count": null,
   "metadata": {},
   "outputs": [],
   "source": [
    "fig = plt.figure(figsize=(15,8))"
   ]
  },
  {
   "cell_type": "markdown",
   "metadata": {},
   "source": [
    "# 2. ПОДГРАФЫ (SUBPLOTS, AXES)\n",
    "\n",
    "Создав figure, можно писать в нее напрямую используя методы `matplotlib.pyplot`, но, в основном, проще и безопаснее рисовать внутри отдельных подграфов subplots (axes)."
   ]
  },
  {
   "cell_type": "code",
   "execution_count": null,
   "metadata": {},
   "outputs": [],
   "source": [
    "fig = plt.figure(figsize=(15,8))\n",
    "ax = plt.subplot(1,1,1) # (rows, columns, and location)\n",
    "                        # это создает сетку подграфов 1x1\n",
    "                        # и выбирает подграф #1"
   ]
  },
  {
   "cell_type": "code",
   "execution_count": null,
   "metadata": {},
   "outputs": [],
   "source": [
    "fig = plt.figure(figsize=(15,8))\n",
    "ax1 = plt.subplot(2,1,1) # это создает сетку подграфов 2x1\n",
    "                         # и выбирает подграф #1\n",
    "ax2 = plt.subplot(2,1,2) # это создает сетку подграфов 2x1\n",
    "                         # и выбирает подграф #2"
   ]
  },
  {
   "cell_type": "code",
   "execution_count": null,
   "metadata": {},
   "outputs": [],
   "source": [
    "fig, ax = plt.subplots(2, 1, figsize=(15,8)) # создает figure размера 15x8\n",
    "                                             # и сетку 2x1."
   ]
  },
  {
   "cell_type": "markdown",
   "metadata": {},
   "source": [
    "Чтобы обратиться к конкретному подграфу используются индексы `ax[i]` или `ax[i][j]`"
   ]
  },
  {
   "cell_type": "code",
   "execution_count": null,
   "metadata": {},
   "outputs": [],
   "source": [
    "fig, ax = plt.subplots(2, 1, figsize=(15,8)) # создает figure размера 15x8\n",
    "                                             # и сетку 2x1.\n",
    "ax[0] # верхние оси\n",
    "ax[1] # нижнии оси"
   ]
  },
  {
   "cell_type": "markdown",
   "metadata": {},
   "source": [
    "Построим первый график"
   ]
  },
  {
   "cell_type": "code",
   "execution_count": null,
   "metadata": {},
   "outputs": [],
   "source": [
    "fig, ax = plt.subplots(2, 2, figsize=(15,8)) # создает figure размера 15x8\n",
    "                                             # и сетку 2x1.\n",
    "\n",
    "ax[0][0].plot(df.index.values, df['a']) # левый верхний\n",
    "ax[0][1].plot(df.index.values, df['b']) # правый верхний\n",
    "ax[1][0].plot(df.index.values, df['c']) # нижний левый\n",
    "ax[1][1].plot(df.index.values, range(len(df))) # нижний правый"
   ]
  },
  {
   "cell_type": "markdown",
   "metadata": {},
   "source": [
    "# 3. ЛИНЕЙНЫЕ ГРАФИКИ (LINE PLOTS)\n",
    "\n",
    "Линейные графики могут быть вызваны как метод подграфа:<br>\n",
    "`ax.plot(x, y)`"
   ]
  },
  {
   "cell_type": "code",
   "execution_count": null,
   "metadata": {},
   "outputs": [],
   "source": [
    "fig, ax = plt.subplots(1,1, figsize=(15,8))\n",
    "\n",
    "x = df.index.values\n",
    "y = df['a']\n",
    "\n",
    "ax.plot(x, y)"
   ]
  },
  {
   "cell_type": "code",
   "execution_count": null,
   "metadata": {},
   "outputs": [],
   "source": [
    "# Предыдущий график можно построить не создавая переменные x and y, напрямую передав значения в функцию\n",
    "\n",
    "fig, ax = plt.subplots(2,1, figsize=(15,8))\n",
    "\n",
    "ax[0].plot(df.index.values, df['a'])\n",
    "ax[1].plot(df.index.values, df['b'])"
   ]
  },
  {
   "cell_type": "markdown",
   "metadata": {},
   "source": [
    "Возможно так же рисовать множество кривых на одной оси. Для этого достаточно вызвать функцию `ax.plot()` несколько раз."
   ]
  },
  {
   "cell_type": "code",
   "execution_count": null,
   "metadata": {},
   "outputs": [],
   "source": [
    "fig, ax = plt.subplots(1,1, figsize=(15,8))\n",
    "\n",
    "x = df.index.values\n",
    "y1 = df['a']\n",
    "y2 = df['b']\n",
    "\n",
    "ax.plot(x, y1)\n",
    "ax.plot(x, y2)"
   ]
  },
  {
   "cell_type": "markdown",
   "metadata": {},
   "source": [
    "Можно использовать функцию `seaborn.set_style('darkgrid')` для задания другого стиля оформления."
   ]
  },
  {
   "cell_type": "code",
   "execution_count": null,
   "metadata": {},
   "outputs": [],
   "source": [
    "sns.set_style('darkgrid')\n",
    "\n",
    "fig, ax = plt.subplots(1,1, figsize=(15,8))\n",
    "\n",
    "ax.plot(df.index.values, df['a'])\n",
    "ax.plot(df.index.values, df['b'])"
   ]
  },
  {
   "cell_type": "markdown",
   "metadata": {},
   "source": [
    "\n",
    "Функция `plot()` имеет множество *именованных аргументов*, или *kwargs*. Некоторые из них:\n",
    "- `color` цвет линии\n",
    "- `linewidth` или `lw` толщина линии\n",
    "- `linestyle` или `ls` стиль линии. Возможные значения включают `'-'` (сплошная), `'-.'` (штрих-пунктир), `'--'` (пунктир).\n",
    "- `marker` создает метки в каждой точке данных графика. Возможные значения для `marker`: `'o'` (круги), `'s'` (квадраты), и тп.\n",
    "\n",
    "Рассмотрим на примерах"
   ]
  },
  {
   "cell_type": "code",
   "execution_count": null,
   "metadata": {},
   "outputs": [],
   "source": [
    "sns.set_style('darkgrid')\n",
    "\n",
    "fig, ax = plt.subplots(1,1, figsize=(15,8))\n",
    "\n",
    "ax.plot(df.index.values, df['a'], color='red', ls='-.')\n",
    "ax.plot(df.index.values, df['b'], color='orange', lw=10)\n",
    "ax.plot(df.index.values, df['c'], color='yellow', lw=1, marker='o')"
   ]
  },
  {
   "cell_type": "markdown",
   "metadata": {},
   "source": [
    "#### Легенды\n",
    "\n",
    "Различить кривые может быть сложно, поэтому стоит добавить легенду.\n",
    "\n",
    "Функция `ax.legend()` считывает аргументы `label` предыдущих вызовов функций на данной оси и автоматически создает легенду.\n",
    "\n",
    "`ax.legend()` может так же принимать дополнительные аргументы:\n",
    "- `loc` задает положение легенды. Если параметр не задан явно, matplotlib автоматически выберет наиболее подходящее место.\n",
    "- `ncol` задает количество столбцов в легенде.\n",
    "- Возможно так же создавать кастомные легенды передавая *patches* и *labels*, но об этом позже."
   ]
  },
  {
   "cell_type": "code",
   "execution_count": null,
   "metadata": {},
   "outputs": [],
   "source": [
    "fig, ax = plt.subplots(1,1, figsize=(15,8))\n",
    "\n",
    "ax.plot(df.index.values, df['a'], label='Line A')\n",
    "ax.plot(df.index.values, df['b'], label='Line B')\n",
    "ax.plot(df.index.values, df['c'], label='Line C')\n",
    "\n",
    "ax.legend(loc='best')"
   ]
  },
  {
   "cell_type": "markdown",
   "metadata": {},
   "source": [
    "#### Объединяем подграфы и линейные графики\n",
    "\n",
    "Чтобы рисовать линии на разных осях, вызовите функцию `ax.plot()` в качестве метода оси на который вы хотите рисовать линию."
   ]
  },
  {
   "cell_type": "code",
   "execution_count": null,
   "metadata": {},
   "outputs": [],
   "source": [
    "fig, ax = plt.subplots(3,1, figsize=(15,8))\n",
    "\n",
    "ax[0].plot(df.index.values, df['a'], label='Line A')\n",
    "ax[1].plot(df.index.values, df['b'], label='Line B')\n",
    "ax[2].plot(df.index.values, df['c'], label='Line C')\n",
    "\n",
    "ax[0].legend(loc=4)\n",
    "ax[1].legend(loc=6)"
   ]
  },
  {
   "cell_type": "markdown",
   "metadata": {},
   "source": [
    "# 4. СТОЛБЧАТЫЕ ДИАГРАММЫ (BAR PLOTS)\n",
    "\n",
    "Другой распространенный вид графиков - столбчатая диаграмма.\n",
    "\n",
    "Ее можно создать методом `ax.bar(x, height)`."
   ]
  },
  {
   "cell_type": "code",
   "execution_count": null,
   "metadata": {},
   "outputs": [],
   "source": [
    "fig, ax = plt.subplots(1, 1, figsize=(15,8))\n",
    "\n",
    "bar_kwargs = {'color':'tomato', 'alpha':0.5}\n",
    "\n",
    "ax.bar(df.index.values, df['a'], label='a', **bar_kwargs)\n",
    "ax.legend()"
   ]
  },
  {
   "cell_type": "markdown",
   "metadata": {},
   "source": [
    "# 5. ОТМЕТКИ И ПОДПИСИ НА ОСЯХ\n",
    "\n",
    "Хотя matplotlib сам подписывает метки на осях, это часто недостаточно для объяснения результатов.\n",
    "\n",
    "Существует ряд методов для изменения отметок и подписей на осях графика.\n",
    "\n",
    "Основные из них: `ax.set_title()`, `ax.set_xlabel()`, `ax.set_ylabel()`, `ax.set_xticklabels()`, `ax.set_yticklabels()` ."
   ]
  },
  {
   "cell_type": "code",
   "execution_count": null,
   "metadata": {},
   "outputs": [],
   "source": [
    "np.random.seed(0)\n",
    "\n",
    "fig, ax = plt.subplots(figsize=(15,7))\n",
    "\n",
    "ax.plot(df.index.values, df['a'], marker='^')\n",
    "ax.set_title('This is the Title')\n",
    "ax.set_ylabel('This is the Y Axis')\n",
    "ax.set_xlabel('This is the X Axis', fontsize=20)\n",
    "\n",
    "ax.set_xticks(df.index.values)\n",
    "ax.set_xticklabels(np.random.randint(1,30,30), fontsize=15, color='red')\n",
    "\n",
    "ax.legend()\n",
    "fig.tight_layout()"
   ]
  },
  {
   "cell_type": "markdown",
   "metadata": {},
   "source": [
    "## Задание масштаба осей\n",
    "\n",
    "- Автоматически за счет изменения данных"
   ]
  },
  {
   "cell_type": "code",
   "execution_count": null,
   "metadata": {},
   "outputs": [],
   "source": [
    "x = np.linspace(-5, 5, 50)  \n",
    "\n",
    "y1 = x + 1\n",
    "y2 = -x*0.5\n",
    "\n",
    "plt.plot(x, y1)\n",
    "plt.plot(x, y2)\n",
    "plt.legend([\"y = x + 1\", \"y = -0.5x\"])\n",
    "plt.show()"
   ]
  },
  {
   "cell_type": "markdown",
   "metadata": {},
   "source": [
    "- Другой способ: ограничением области отрисовки графика"
   ]
  },
  {
   "cell_type": "code",
   "execution_count": null,
   "metadata": {},
   "outputs": [],
   "source": [
    "x = np.linspace(-5, 5, 50)\n",
    "y1 = x + 1\n",
    "y2 = -x*0.5\n",
    "plt.plot(x, y1)\n",
    "plt.plot(x, y2)\n",
    "\n",
    "plt.xlim((2,3))\n",
    "plt.ylim((4,8))\n",
    "plt.legend([\"y = x + 1\", \"y = -0.5x\"])\n",
    "plt.show()"
   ]
  },
  {
   "cell_type": "markdown",
   "metadata": {},
   "source": [
    "График пустой, так как в диапазоне `(X axis [2:3], Y axis [4:8])`, линии нет."
   ]
  },
  {
   "cell_type": "markdown",
   "metadata": {},
   "source": [
    "# Категориальные шкалы"
   ]
  },
  {
   "cell_type": "code",
   "execution_count": null,
   "metadata": {},
   "outputs": [],
   "source": [
    "price = np.array([10, 45, 30, 15, 50])\n",
    "std = np.array([2, 5, 8, 3, 1])\n",
    "\n",
    "x_axis = [\"APPLE\", \"AMAZON\", \"YAHOO\", \"GOOGLE\", \"FACEBOOK\"]\n",
    "\n",
    "plt.xlabel(\"Stock\")\n",
    "plt.ylabel(\"Price\")\n",
    "plt.title(\"Stock Price\")\n",
    "plt.bar(x=x_axis, height=price, yerr = std,\n",
    "        color=\"green\", width=0.5)\n",
    "\n",
    "plt.show()"
   ]
  },
  {
   "cell_type": "markdown",
   "metadata": {},
   "source": [
    "# Сетка\n",
    "\n",
    "- `grid` может улучшить восприятие и сравнение данных. **Осторожно**, сетка может так же добавить визуального мусора графику."
   ]
  },
  {
   "cell_type": "code",
   "execution_count": null,
   "metadata": {},
   "outputs": [],
   "source": [
    "price = np.array([10, 45, 30, 15, 50])\n",
    "std = np.array([2, 5, 8, 3, 1])\n",
    "x_axis = [\"APPLE\", \"AMAZON\", \"YAHOO\", \"GOOGLE\", \"FACEBOOK\"]\n",
    "\n",
    "plt.xlabel(\"Stock\")\n",
    "plt.ylabel(\"Price\")\n",
    "plt.title(\"Stock Price\")\n",
    "plt.bar(x=x_axis, height=price, yerr = std,\n",
    "        color=\"green\", width=0.5)\n",
    "\n",
    "plt.grid(True)\n",
    "plt.show()"
   ]
  },
  {
   "cell_type": "markdown",
   "metadata": {},
   "source": [
    "# Аннотации"
   ]
  },
  {
   "cell_type": "code",
   "execution_count": null,
   "metadata": {},
   "outputs": [],
   "source": [
    "price = np.array([10, 45, 30, 15, 50])\n",
    "std = np.array([2, 5, 8, 3, 1])\n",
    "x_axis = [\"APPLE\", \"AMAZON\", \"YAHOO\", \"GOOGLE\", \"FACEBOOK\"]\n",
    "\n",
    "plt.xlabel(\"Stock\")\n",
    "plt.ylabel(\"Price\")\n",
    "plt.title(\"Stock Price\")\n",
    "plt.bar(x=x_axis, height=price, color=\"green\", width=0.5)\n",
    "\n",
    "# add annotations\n",
    "for x, y in zip(x_axis, price):\n",
    "    plt.text(x, y, y, ha='center', va='bottom')\n",
    "\n",
    "plt.grid(True)\n",
    "plt.show()"
   ]
  },
  {
   "cell_type": "markdown",
   "metadata": {},
   "source": [
    "# Точечная диаграмма"
   ]
  },
  {
   "cell_type": "code",
   "execution_count": null,
   "metadata": {},
   "outputs": [],
   "source": [
    "world = pd.read_csv(\"world2015.csv\")\n",
    "world.head()"
   ]
  },
  {
   "cell_type": "markdown",
   "metadata": {},
   "source": [
    "Данные содержат продолжительность жизни `Life_expectancy`, ВВП на душу населения `GDP_per_capita` и население `Population` для каждой страны."
   ]
  },
  {
   "cell_type": "code",
   "execution_count": null,
   "metadata": {},
   "outputs": [],
   "source": [
    "fig=plt.figure(figsize=(15,8))\n",
    "\n",
    "plt.scatter(world.GDP_per_capita, world.Life_expectancy)"
   ]
  },
  {
   "cell_type": "markdown",
   "metadata": {},
   "source": [
    "## Size & Alpha\n",
    "\n",
    "- `Size`: будем использовать население в качестве размера точки\n",
    "- `Alpha`: задает прозрачность маркера"
   ]
  },
  {
   "cell_type": "code",
   "execution_count": null,
   "metadata": {},
   "outputs": [],
   "source": [
    "fig=plt.figure(figsize=(15,8))\n",
    "\n",
    "size = world.Population / 1e6 # 1e6 = 1,000,000\n",
    "\n",
    "plt.scatter(world.GDP_per_capita, world.Life_expectancy, s=size, alpha = 0.5)\n",
    "\n",
    "plt.show()"
   ]
  },
  {
   "cell_type": "markdown",
   "metadata": {},
   "source": [
    "## Color Map\n",
    "\n",
    "Зададим словарь для обозначения континента цветом."
   ]
  },
  {
   "cell_type": "code",
   "execution_count": null,
   "metadata": {},
   "outputs": [],
   "source": [
    "fig=plt.figure(figsize=(15,8))\n",
    "\n",
    "map_dict = {      \n",
    "    'Asia':'red',\n",
    "    'Europe':'green',\n",
    "    'Africa':'blue',\n",
    "    'North America':'yellow',\n",
    "    'South America':'yellow',\n",
    "    'Oceania':'black'\n",
    "}\n",
    "\n",
    "colors = world.Continent.map(map_dict)\n",
    "\n",
    "size = world.Population / 1e6\n",
    "plt.scatter(world.GDP_per_capita, world.Life_expectancy, c=colors, s=size, alpha = 0.5)\n",
    "plt.show()"
   ]
  },
  {
   "cell_type": "markdown",
   "metadata": {},
   "source": [
    "# Круговая диаграмма"
   ]
  },
  {
   "cell_type": "code",
   "execution_count": null,
   "metadata": {},
   "outputs": [],
   "source": [
    "labels=['Python','Java','C++','Ruby']\n",
    "values=[20,30,40,10]\n",
    "\n",
    "colors=['yellow','green','red','blue']\n",
    "\n",
    "plt.pie(values, labels=labels, colors=colors)\n",
    "plt.title(\"Pie Chart\")\n",
    "plt.show()"
   ]
  },
  {
   "cell_type": "markdown",
   "metadata": {},
   "source": [
    "## Figsize\n",
    "\n",
    "Для круговой диаграммы при задании размера всегда выбирается автоматически наименьший."
   ]
  },
  {
   "cell_type": "code",
   "execution_count": null,
   "metadata": {},
   "outputs": [],
   "source": [
    "labels=['Python','Java','C++','Ruby']\n",
    "values=[20,30,40,10]\n",
    "colors=['yellow','green','red','blue']\n",
    "\n",
    "fig=plt.figure(figsize=(5,50))\n",
    "\n",
    "plt.pie(values, labels=labels, colors=colors)\n",
    "plt.title(\"Pie Chart\")\n",
    "plt.show()"
   ]
  },
  {
   "cell_type": "markdown",
   "metadata": {},
   "source": [
    "## Тень (Shadow)"
   ]
  },
  {
   "cell_type": "code",
   "execution_count": null,
   "metadata": {},
   "outputs": [],
   "source": [
    "labels=['Python','Java','C++','Ruby']\n",
    "values=[20,30,40,10]\n",
    "colors=['yellow','green','red','blue']\n",
    "\n",
    "fig=plt.figure(figsize=(5,5))\n",
    "\n",
    "plt.pie(values, labels=labels, colors=colors, shadow = True)\n",
    "plt.title(\"Pie Chart\")\n",
    "plt.show()"
   ]
  },
  {
   "cell_type": "markdown",
   "metadata": {},
   "source": [
    "## Разделить (Explode)"
   ]
  },
  {
   "cell_type": "code",
   "execution_count": null,
   "metadata": {},
   "outputs": [],
   "source": [
    "labels=['Python','Java','C++','Ruby']\n",
    "values=[20,30,40,10]\n",
    "colors=['yellow','green','red','blue']\n",
    "\n",
    "explode = [0.2, 0, 0, 0]\n",
    "\n",
    "fig=plt.figure(figsize=(5,5))\n",
    "plt.pie(values, labels=labels, colors=colors, \n",
    "        shadow = True, explode = explode)\n",
    "plt.title(\"Pie Chart\")\n",
    "plt.show()"
   ]
  },
  {
   "cell_type": "markdown",
   "metadata": {},
   "source": [
    "## Автоматический процент (Autopct)"
   ]
  },
  {
   "cell_type": "code",
   "execution_count": null,
   "metadata": {},
   "outputs": [],
   "source": [
    "labels=['Python','Java','C++','Ruby']\n",
    "values=[200,300,400,100] # new value list\n",
    "colors=['yellow','green','red','blue']\n",
    "explode = [0.2, 0, 0, 0]\n",
    "\n",
    "fig=plt.figure(figsize=(5,5))\n",
    "\n",
    "plt.pie(values, labels=labels, colors=colors, \n",
    "        shadow = True, explode = explode, autopct='%0.1f%%')\n",
    "plt.title(\"Pie Chart\")\n",
    "plt.show()"
   ]
  },
  {
   "cell_type": "markdown",
   "metadata": {},
   "source": [
    "## Pctdistance\n",
    "\n",
    "Задает положение чисел найденных с помощью `autopct`."
   ]
  },
  {
   "cell_type": "code",
   "execution_count": null,
   "metadata": {},
   "outputs": [],
   "source": [
    "labels=['Python','Java','C++','Ruby']\n",
    "values=[20,30,40,10]\n",
    "colors=['yellow','green','red','blue']\n",
    "explode = [0.2, 0, 0, 0]\n",
    "\n",
    "fig=plt.figure(figsize=(5,5))\n",
    "\n",
    "plt.pie(values, labels=labels, colors=colors, \n",
    "        shadow = True, explode = explode, \n",
    "        autopct='%0.1f%%', pctdistance=0.3)\n",
    "plt.title(\"Pie Chart\")\n",
    "plt.show()"
   ]
  },
  {
   "cell_type": "markdown",
   "metadata": {},
   "source": [
    "## Radius"
   ]
  },
  {
   "cell_type": "code",
   "execution_count": null,
   "metadata": {},
   "outputs": [],
   "source": [
    "labels=['Python','Java','C++','Ruby']\n",
    "values=[20,30,40,10]\n",
    "colors=['yellow','green','red','blue']\n",
    "explode = [0.2, 0, 0, 0]\n",
    "\n",
    "fig=plt.figure(figsize=(5,5))\n",
    "\n",
    "plt.pie(values, labels=labels, colors=colors, \n",
    "        shadow = True, explode = explode, \n",
    "        autopct='%0.1f%%', pctdistance=0.3,\n",
    "       radius = 1.5)\n",
    "\n",
    "plt.title(\"Pie Chart\")\n",
    "plt.show()"
   ]
  },
  {
   "cell_type": "markdown",
   "metadata": {},
   "source": [
    "## Wedgeprops\n",
    "\n",
    "Словарь вида `{\"linewidth\":  , \"width\":  , \"edgecolor\":  }`, отвечающий за стилизацию краев диаграммы."
   ]
  },
  {
   "cell_type": "code",
   "execution_count": null,
   "metadata": {},
   "outputs": [],
   "source": [
    "labels=['Python','Java','C++','Ruby']\n",
    "values=[20,30,40,10]\n",
    "colors=['yellow','green','red','blue']\n",
    "explode = [0.2, 0, 0, 0]\n",
    "\n",
    "fig=plt.figure(figsize=(5,5))\n",
    "\n",
    "plt.pie(values, labels=labels, colors=colors, \n",
    "        shadow = True, explode = explode, \n",
    "        autopct='%0.1f%%', pctdistance=0.8,\n",
    "       radius = 1, wedgeprops={\"linewidth\": 3, \"width\": 0.4, \"edgecolor\": \"white\"})\n",
    "plt.title(\"Pie Chart\")\n",
    "plt.show()"
   ]
  },
  {
   "cell_type": "markdown",
   "metadata": {},
   "source": [
    "## Startangle\n",
    "\n",
    "`Startangle` задает угол начала диаграммы в градусах против часовой стрелки от оси х."
   ]
  },
  {
   "cell_type": "code",
   "execution_count": null,
   "metadata": {},
   "outputs": [],
   "source": [
    "labels=['Python','Java','C++','Ruby']\n",
    "values=[20,30,40,10]\n",
    "colors=['yellow','green','red','blue']\n",
    "explode = [0.2, 0, 0, 0]\n",
    "\n",
    "fig=plt.figure(figsize=(5,5))\n",
    "\n",
    "plt.pie(values, labels=labels, colors=colors, \n",
    "        shadow = True, explode = explode, \n",
    "        autopct='%0.1f%%', pctdistance=0.8,\n",
    "       radius = 1, wedgeprops={\"linewidth\": 3, \"width\": 0.4, \"edgecolor\": \"white\"},\n",
    "       startangle = 180)\n",
    "\n",
    "plt.title(\"Pie Chart\")\n",
    "plt.show()"
   ]
  },
  {
   "cell_type": "markdown",
   "metadata": {},
   "source": [
    "## Textprops\n",
    "\n",
    "Задает свойства текста на диаграмме"
   ]
  },
  {
   "cell_type": "code",
   "execution_count": null,
   "metadata": {},
   "outputs": [],
   "source": [
    "labels=['Python','Java','C++','Ruby']\n",
    "values=[20,30,40,10]\n",
    "colors=['yellow','green','red','blue']\n",
    "explode = [0.2, 0, 0, 0]\n",
    "\n",
    "fig=plt.figure(figsize=(5,5))\n",
    "\n",
    "plt.pie(values, labels=labels, colors=colors, \n",
    "        shadow = True, explode = explode, \n",
    "        autopct='%0.1f%%', pctdistance=0.8,\n",
    "       radius = 1, wedgeprops={\"linewidth\": 3, \"width\": 0.4, \"edgecolor\": \"white\"},\n",
    "       startangle = 180, textprops = {\"color\": \"purple\", \"weight\": \"bold\"})\n",
    "\n",
    "plt.title(\"Pie Chart\")\n",
    "plt.show()"
   ]
  }
 ],
 "metadata": {
  "kernelspec": {
   "display_name": "Python 3",
   "language": "python",
   "name": "python3"
  },
  "language_info": {
   "codemirror_mode": {
    "name": "ipython",
    "version": 3
   },
   "file_extension": ".py",
   "mimetype": "text/x-python",
   "name": "python",
   "nbconvert_exporter": "python",
   "pygments_lexer": "ipython3",
   "version": "3.12.0"
  }
 },
 "nbformat": 4,
 "nbformat_minor": 1
}
