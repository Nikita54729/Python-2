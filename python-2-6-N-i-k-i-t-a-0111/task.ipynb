{
 "cells": [
  {
   "cell_type": "markdown",
   "metadata": {},
   "source": [
    "# Содержание\n",
    "\n",
    "1. [Задание 1](#задание-1)\n",
    "2. []"
   ]
  },
  {
   "cell_type": "code",
   "execution_count": null,
   "metadata": {},
   "outputs": [
    {
     "ename": "",
     "evalue": "",
     "output_type": "error",
     "traceback": [
      "\u001b[1;31mThe kernel failed to start as '_psutil_linux' could not be imported from 'most likely due to a circular import'.\n",
      "Click <a href='https://aka.ms/kernelFailuresModuleImportErrFromFile'>here</a> for more info."
     ]
    }
   ],
   "source": [
    "import matplotlib.pyplot as plt\n",
    "\n",
    "import numpy as np\n",
    "import pandas as pd\n",
    "import seaborn as sns"
   ]
  },
  {
   "cell_type": "code",
   "execution_count": null,
   "metadata": {},
   "outputs": [],
   "source": [
    "np.random.seed(0)\n",
    "\n",
    "df = pd.DataFrame(data={'a':np.random.randint(0, 100, 30),\n",
    "                        'b':np.random.randint(0, 100, 30),\n",
    "                        'c':np.random.randint(0, 100, 30)})\n",
    "df.head()"
   ]
  },
  {
   "cell_type": "markdown",
   "metadata": {},
   "source": [
    "# Задание 1\n",
    "\n",
    "Создайте фигуру с размером 15x8 и двумя подграфами, верхний и нижний.\n",
    "\n",
    "Нарисуйте две линии в верхней оси, одна зеленая и одна оранжевая.\n",
    "\n",
    "Добавьте легенду для верхней линии, *Green* и *Orange*. Поместите эту легенду в центр верхней части графика.\n",
    "\n",
    "**Дополнительное задание**: В нижней оси создайте график только данных, отмеченный кругами, но без линей, соединяющей точки."
   ]
  },
  {
   "cell_type": "code",
   "execution_count": null,
   "metadata": {},
   "outputs": [],
   "source": [
    "# Start your answer from here\n",
    "fig, axes = plt.subplots(figsize=(15, 8))\n",
    "\n",
    "x = np.arange(100)\n",
    "green_data = np.sin(x)\n",
    "orange_data = np.cos(x)\n",
    "\n",
    "axes[0].plot(x, green_data, color='green', label='Green')\n",
    "axes[0].plot(x, orange_data, color='orange', label='Orange')\n",
    "\n",
    "axes[0].legend(loc='center')\n",
    "\n",
    "axes[0].set_title('Верхняя ось')\n",
    "\n",
    "plt.tight_layout()\n",
    "plt.show()"
   ]
  },
  {
   "cell_type": "markdown",
   "metadata": {},
   "source": [
    "# Задание 2\n",
    "\n",
    "Создайте фигуру с 3 подграфиками, расположенными вертикально.\n",
    "\n",
    "Создайте столбчатую диаграмму для `a` и `b` на первых двух подграфах, а на последнем нарисуйте `a` и `b` вместе, но `b` расположите поверх `a`. (Подсказка: используйте аргумент `bottom`)\n",
    "\n",
    "Убедитесь, что цвета `a` и `b` постоянны на всех подграфах.\n",
    "\n",
    "**Дополнительное задание**: укажите числовое значение каждого столбца над ним."
   ]
  },
  {
   "cell_type": "code",
   "execution_count": null,
   "metadata": {},
   "outputs": [],
   "source": [
    "# Start your answer from here\n",
    "a_color = 'blue'\n",
    "b_color = 'orange'\n",
    "\n",
    "fig, axes = plt.subplots(nrows=3, figsize=(10, 6))\n",
    "\n",
    "axes[0].bar(df.index, df['a'], color=a_color, label='a')\n",
    "axes[0].set_title('Столбец \"a\"')\n",
    "axes[0].legend()\n",
    "\n",
    "axes[1].bar(df.index, df['b'], color=b_color, label='b')\n",
    "axes[1].set_title('Столбец \"b\"')\n",
    "axes[1].legend()\n",
    "\n",
    "axes[2].bar(df.index, df['a'], color=a_color, label='a')\n",
    "axes[2].bar(df.index, df['b'], bottom=df['a'], color=b_color, label='b')\n",
    "axes[2].set_title('Столбцы \"a\" и \"b\"')\n",
    "axes[2].legend()\n",
    "\n",
    "plt.xlabel('Индекс DataFrame')\n",
    "plt.ylabel('Значение')\n",
    "plt.tight_layout()\n",
    "\n",
    "plt.show()"
   ]
  },
  {
   "cell_type": "markdown",
   "metadata": {},
   "source": [
    "# Задание 3\n",
    "\n",
    "Визуализируйте тестовые данные представленные ниже.\n",
    "\n",
    "Создайте столбчатую диаграмму, отображающую оборот (turnover) каждого рынка.\n",
    "\n",
    "Помните, что избыточная информация усложняет восприятие, делайте все разумно.\n",
    "\n",
    "Используйте подписи, чтобы график был понятен.\n",
    "\n",
    "**Дополнительное задание**: на противоположной оси, нарисуйте линию показывающую долю каждого рынка (share). (Подсказка: используйте `ax.twinx()`)"
   ]
  },
  {
   "cell_type": "code",
   "execution_count": null,
   "metadata": {},
   "outputs": [],
   "source": [
    "np.random.seed(0)\n",
    "\n",
    "turnover_data = pd.DataFrame({'boardid' : ['DAY', 'DAY_X', 'DAY_U', 'TSE'], \n",
    "                              'turnover' : np.random.randint(1e6, 1e9, 4)})\n",
    "\n",
    "turnover_data = turnover_data.sort_values(by='turnover').reset_index().drop('index', axis=1)\n",
    "\n",
    "turnover_data['turnover_simplified'] = turnover_data['turnover'] // 1000000\n",
    "\n",
    "turnover_data['market_share'] = round((turnover_data['turnover'] / sum(turnover_data['turnover'])*100), 1)\n",
    "\n",
    "turnover_data"
   ]
  },
  {
   "cell_type": "code",
   "execution_count": null,
   "metadata": {},
   "outputs": [],
   "source": [
    "# Start your answer from here\n",
    "colors = ['blue', 'green', 'red', 'purple']\n",
    "plt.figure(figsize=(10, 6))\n",
    "bars = plt.bar(turnover_data['boardid'], turnover_data['turnover_simplified'], color=colors)\n",
    "\n",
    "for bar, market_share in zip(bars, turnover_data['market_share']):\n",
    "    height = bar.get_height()\n",
    "    plt.text(bar.get_x() + bar.get_width() / 2, height + 50000, f\"{market_share}%\", ha='center')\n",
    "\n",
    "plt.xlabel('Рынок')\n",
    "plt.ylabel('Оборот (млн)')\n",
    "plt.title('Оборот на разных рынках')\n",
    "plt.xticks(rotation=45, ha='right')\n",
    "plt.grid(axis='y', linestyle='--', alpha=0.7) \n",
    "\n",
    "plt.tight_layout()\n",
    "plt.show()"
   ]
  },
  {
   "cell_type": "markdown",
   "metadata": {},
   "source": [
    "# Задание 4\n",
    "\n",
    "Постройте 4 графика различных математических функций."
   ]
  },
  {
   "cell_type": "markdown",
   "metadata": {},
   "source": [
    "## $y = 2x + 1$"
   ]
  },
  {
   "cell_type": "code",
   "execution_count": null,
   "metadata": {},
   "outputs": [],
   "source": [
    "# Start you answer here\n",
    "def f(x):\n",
    "      return 2 * x + 1\n",
    "\n",
    "x = np.arange(-5, 5, 0.1)\n",
    "y = f(x)\n",
    "plt.plot(x, y, label='y = 2x + 1')\n",
    "plt.xlabel('X')\n",
    "plt.ylabel('Y')\n",
    "plt.grid(True)\n",
    "plt.legend()\n",
    "plt.show()"
   ]
  },
  {
   "cell_type": "markdown",
   "metadata": {},
   "source": [
    "## $y = x^2$"
   ]
  },
  {
   "cell_type": "code",
   "execution_count": null,
   "metadata": {},
   "outputs": [],
   "source": [
    "# Start you answer here\n",
    "def f(x):\n",
    "      return x ** 2\n",
    "\n",
    "x = np.arange(-5, 5, 0.1)\n",
    "y = f(x)\n",
    "\n",
    "plt.plot(x, y, label='y = x^2')\n",
    "plt.xlabel('X')\n",
    "plt.ylabel('Y')\n",
    "plt.grid(True)\n",
    "plt.legend()\n",
    "\n",
    "plt.show()"
   ]
  },
  {
   "cell_type": "markdown",
   "metadata": {},
   "source": [
    "## $y = sin(x)$"
   ]
  },
  {
   "cell_type": "code",
   "execution_count": null,
   "metadata": {},
   "outputs": [],
   "source": [
    "# Start you answer here\n",
    "def f(x):\n",
    "      return np.sin(x)\n",
    "\n",
    "x = np.arange(-2*np.pi, 2*np.pi, 0.1)\n",
    "y = f(x)\n",
    "\n",
    "plt.plot(x, y, label='y = sin(x)')\n",
    "plt.xlabel('X')\n",
    "plt.ylabel('Y')\n",
    "plt.grid(True)\n",
    "plt.legend() \n",
    "plt.show()"
   ]
  },
  {
   "cell_type": "markdown",
   "metadata": {},
   "source": [
    "## $y = \\frac{1}{1 + e^(-x)}$ \n",
    "[Wiki: Sigmoid Function](https://en.wikipedia.org/wiki/Sigmoid_function)"
   ]
  },
  {
   "cell_type": "code",
   "execution_count": null,
   "metadata": {},
   "outputs": [],
   "source": [
    "import math\n",
    "e = math.e\n",
    "\n",
    "# Start you answer here"
   ]
  },
  {
   "cell_type": "markdown",
   "metadata": {},
   "source": [
    "# Задание 5\n",
    "\n",
    "Для следующих 2 заданий будем использовать датасет со стоимостью биткоин, который содержит `Date` и `Price` за день."
   ]
  },
  {
   "cell_type": "code",
   "execution_count": null,
   "metadata": {},
   "outputs": [],
   "source": [
    "bitcoin = pd.read_csv(\"Bitcoin.csv\")\n",
    "bitcoin.head()"
   ]
  },
  {
   "cell_type": "markdown",
   "metadata": {},
   "source": [
    "## Линейный график\n",
    "\n",
    "Нарисуйте линейный график изменения цены."
   ]
  },
  {
   "cell_type": "code",
   "execution_count": null,
   "metadata": {},
   "outputs": [],
   "source": [
    "# Start you answer here\n",
    "price_column = 'Price'\n",
    "dates = bitcoin['Date']\n",
    "prices = bitcoin[price_column]\n",
    "plt.figure(figsize=(12, 6))\n",
    "plt.plot(dates, prices, label='Цена Bitcoin')\n",
    "plt.xlabel('Дата')\n",
    "plt.ylabel('Цена')\n",
    "plt.title('Изменение цены Bitcoin')\n",
    "plt.grid(True)\n",
    "plt.legend()\n",
    "plt.xticks(rotation=45, ha='right')\n",
    "plt.tight_layout()\n",
    "plt.show()"
   ]
  },
  {
   "cell_type": "markdown",
   "metadata": {},
   "source": [
    "## Столбчатая диаграмма\n",
    "\n",
    "Нарисуйте столбчатую диаграмму изменения цены."
   ]
  },
  {
   "cell_type": "code",
   "execution_count": null,
   "metadata": {},
   "outputs": [],
   "source": [
    "# Start you answer here\n",
    "price_column = 'Price'\n",
    "dates = bitcoin['Date']\n",
    "prices = bitcoin[price_column]\n",
    "\n",
    "plt.figure(figsize=(12, 6))\n",
    "plt.bar(dates, prices, color='blue', edgecolor='black')\n",
    "\n",
    "plt.xlabel('Дата')\n",
    "plt.ylabel('Цена')\n",
    "plt.title('Изменение цены Bitcoin')\n",
    "plt.grid(axis='y', linestyle='--', alpha=0.7)\n",
    "plt.xticks(rotation=45, ha='right')\n",
    "plt.tight_layout()\n",
    "plt.show()"
   ]
  },
  {
   "cell_type": "markdown",
   "metadata": {},
   "source": [
    "# Задание 6\n",
    "Используя данные из `world2015.csv` постройте график отношения `Population` и `GDP_per_capita` используя `Scatter Chart`."
   ]
  },
  {
   "cell_type": "code",
   "execution_count": null,
   "metadata": {},
   "outputs": [],
   "source": [
    "# Start you answer here\n",
    "data = pd.read_csv(\"world2015.csv\")\n",
    "population = data[\"Population\"]\n",
    "gdp_per_capita = data[\"GDP_per_capita\"]\n",
    "population = population.astype(float)\n",
    "gdp_per_capita = gdp_per_capita.astype(float)\n",
    "\n",
    "plt.figure(figsize=(10, 6))\n",
    "plt.scatter(gdp_per_capita, population, c='blue', alpha=0.7)\n",
    "plt.xlabel(\"GDP_per_capita\")\n",
    "plt.ylabel(\"Population\")\n",
    "plt.title(\"Соотношение Population и GDP_per_capita\")\n",
    "plt.grid(True)\n",
    "plt.tight_layout()\n",
    "plt.show()"
   ]
  },
  {
   "cell_type": "markdown",
   "metadata": {},
   "source": [
    "# Задание 7\n",
    "Постройте концентрические круговые диаграммы, используя данные ниже."
   ]
  },
  {
   "cell_type": "code",
   "execution_count": null,
   "metadata": {},
   "outputs": [],
   "source": [
    "# pei chart 1\n",
    "labels=['Python','Java','C++','Ruby']\n",
    "values=[20,30,40,10]\n",
    "colors=['yellow','green','red','blue']\n",
    "explode = [0.2, 0, 0, 0]\n",
    "\n",
    "# pie chart 2\n",
    "labels2=[\"Amater\", \"Pro\",\n",
    "       \"Amater\", \"Pro\",\n",
    "       \"Amater\", \"Pro\",\n",
    "       \"Amater\", \"Pro\"]\n",
    "values2 = [10,10,20,10,15,25,3,7]\n",
    "colors2 = [\"greenyellow\", \"khaki\",\n",
    "          \"limegreen\", \"olive\",\n",
    "          \"darkorange\", \"salmon\",\n",
    "          \"skyblue\", \"violet\"]\n",
    "explode2 = [0.2, 0.2, 0, 0, 0, 0, 0, 0]"
   ]
  },
  {
   "cell_type": "code",
   "execution_count": null,
   "metadata": {},
   "outputs": [],
   "source": [
    "# Start you answer here\n",
    "title = \"Распределение языков программирования\"\n",
    "labels = ['Python', 'Java', 'C++', 'Ruby']\n",
    "values = [20, 30, 40, 10]\n",
    "colors = ['yellow', 'green', 'red', 'blue']\n",
    "explode = [0.2, 0, 0, 0]\n",
    "\n",
    "plt.figure(figsize=(8, 8))\n",
    "plt.pie(values, labels=labels, colors=colors, explode=explode, autopct=\"%1.1f%%\", shadow=True, startangle=90)\n",
    "plt.title(title)\n",
    "\n",
    "plt.axis('equal')\n",
    "plt.show()"
   ]
  }
 ],
 "metadata": {
  "kernelspec": {
   "display_name": "Python 3.9.5 64-bit",
   "language": "python",
   "name": "python3"
  },
  "language_info": {
   "codemirror_mode": {
    "name": "ipython",
    "version": 3
   },
   "file_extension": ".py",
   "mimetype": "text/x-python",
   "name": "python",
   "nbconvert_exporter": "python",
   "pygments_lexer": "ipython3",
   "version": "3.9.5"
  },
  "vscode": {
   "interpreter": {
    "hash": "f9f85f796d01129d0dd105a088854619f454435301f6ffec2fea96ecbd9be4ac"
   }
  }
 },
 "nbformat": 4,
 "nbformat_minor": 2
}
