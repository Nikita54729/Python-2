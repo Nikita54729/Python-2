{
  "cells": [
    {
      "cell_type": "markdown",
      "metadata": {
        "id": "Q_rqa1jwKd5v"
      },
      "source": [
        "# Python pandas"
      ]
    },
    {
      "cell_type": "code",
      "execution_count": 2,
      "metadata": {
        "colab": {
          "base_uri": "https://localhost:8080/"
        },
        "id": "_DgRNdroKTwF",
        "outputId": "9353a4df-bdc7-4d8b-961a-204b54781f3f"
      },
      "outputs": [],
      "source": [
        "\n",
        "import pandas as pd\n",
        "import statsmodels.api as sm"
      ]
    },
    {
      "cell_type": "markdown",
      "metadata": {
        "id": "525Moc9hEfFr"
      },
      "source": [
        "## Импорт и создание DataFrame \n",
        "\n",
        "Выполните код ниже, чтобы загрузить из файла `anes96.csv` данные [Американских национальных исследований выборов 1996 года](https://www.statsmodels.org/dev/datasets/generated/anes96.html)."
      ]
    },
    {
      "cell_type": "code",
      "execution_count": null,
      "metadata": {},
      "outputs": [
        {
          "ename": "",
          "evalue": "",
          "output_type": "error",
          "traceback": [
            "\u001b[1;31mThe kernel failed to start as '_psutil_linux' could not be imported from 'most likely due to a circular import'.\n",
            "Click <a href='https://aka.ms/kernelFailuresModuleImportErrFromFile'>here</a> for more info."
          ]
        }
      ],
      "source": [
        "df = pd.read_csv('anes96.csv')"
      ]
    },
    {
      "cell_type": "markdown",
      "metadata": {},
      "source": [
        "Информация о содержимом датасета:\n",
        "\n",
        "```plain\n",
        "    Variables name definitions::\n",
        "\n",
        "            popul - Census place population in 1000s\n",
        "            TVnews - Number of times per week that respondent watches TV news.\n",
        "            PID - Party identification of respondent.\n",
        "                0 - Strong Democrat\n",
        "                1 - Weak Democrat\n",
        "                2 - Independent-Democrat\n",
        "                3 - Independent-Indpendent\n",
        "                4 - Independent-Republican\n",
        "                5 - Weak Republican\n",
        "                6 - Strong Republican\n",
        "            age : Age of respondent.\n",
        "            educ - Education level of respondent\n",
        "                1 - 1-8 grades\n",
        "                2 - Some high school\n",
        "                3 - High school graduate\n",
        "                4 - Some college\n",
        "                5 - College degree\n",
        "                6 - Master's degree\n",
        "                7 - PhD\n",
        "            income - Income of household\n",
        "                1  - None or less than $2,999\n",
        "                2  - $3,000-$4,999\n",
        "                3  - $5,000-$6,999\n",
        "                4  - $7,000-$8,999\n",
        "                5  - $9,000-$9,999\n",
        "                6  - $10,000-$10,999\n",
        "                7  - $11,000-$11,999\n",
        "                8  - $12,000-$12,999\n",
        "                9  - $13,000-$13,999\n",
        "                10 - $14,000-$14.999\n",
        "                11 - $15,000-$16,999\n",
        "                12 - $17,000-$19,999\n",
        "                13 - $20,000-$21,999\n",
        "                14 - $22,000-$24,999\n",
        "                15 - $25,000-$29,999\n",
        "                16 - $30,000-$34,999\n",
        "                17 - $35,000-$39,999\n",
        "                18 - $40,000-$44,999\n",
        "                19 - $45,000-$49,999\n",
        "                20 - $50,000-$59,999\n",
        "                21 - $60,000-$74,999\n",
        "                22 - $75,000-89,999\n",
        "                23 - $90,000-$104,999\n",
        "                24 - $105,000 and over\n",
        "            vote - Expected vote\n",
        "                0 - Clinton\n",
        "                1 - Dole\n",
        "            The following 3 variables all take the values:\n",
        "                1 - Extremely liberal\n",
        "                2 - Liberal\n",
        "                3 - Slightly liberal\n",
        "                4 - Moderate\n",
        "                5 - Slightly conservative\n",
        "                6 - Conservative\n",
        "                7 - Extremely Conservative\n",
        "            selfLR - Respondent's self-reported political leanings from \"Left\"\n",
        "                to \"Right\".\n",
        "            ClinLR - Respondents impression of Bill Clinton's political\n",
        "                leanings from \"Left\" to \"Right\".\n",
        "            DoleLR  - Respondents impression of Bob Dole's political leanings\n",
        "                from \"Left\" to \"Right\".\n",
        "            logpopul - log(popul + .1)\n",
        "```"
      ]
    },
    {
      "cell_type": "markdown",
      "metadata": {
        "id": "kBHruDwCK1mH"
      },
      "source": [
        "## 1. Основные свойства DataFrame\n",
        "\n",
        "DataFrame (`df`) содержит данные о зарегистрированных избирателях в США, включая демографические данные и политические взгляды. Используя `pandas`, выведите первые 5 строк DataFrame, чтобы понять как примерно выглядят данные. Далее ответьте на следующие вопросы:\n",
        "\n",
        "* Сколько записей в DataFrame?\n",
        "* Сколько параметров было оценено в исследовании (сколько столбцов)?\n",
        "* Каков минимальный и максимальный возраст избирателя?\n",
        "* Сколько раз в неделю в среднем респонденты смотрят новости (округлите до десятых)?\n",
        "* Проверьте данные на пропущенные значения."
      ]
    },
    {
      "cell_type": "code",
      "execution_count": null,
      "metadata": {
        "id": "kh7hT9QyEsxl"
      },
      "outputs": [
        {
          "ename": "",
          "evalue": "",
          "output_type": "error",
          "traceback": [
            "\u001b[1;31mThe kernel failed to start as '_psutil_linux' could not be imported from 'most likely due to a circular import'.\n",
            "Click <a href='https://aka.ms/kernelFailuresModuleImportErrFromFile'>here</a> for more info."
          ]
        }
      ],
      "source": [
        "# Вывод первых 5 строк DataFrame\n",
        "print(\"Первые 5 строк DataFrame:\")\n",
        "print(df.head())\n",
        "\n",
        "# Количество записей в DataFrame\n",
        "print(\"Количество записей в DataFrame:\", len(df))\n",
        "\n",
        "# Количество параметров (столбцов) в DataFrame\n",
        "print(\"Количество параметров (столбцов) в DataFrame:\", len(df.columns))\n",
        "\n",
        "# Минимальный и максимальный возраст избирателя\n",
        "min_age = df['age'].min()\n",
        "max_age = df['age'].max()\n",
        "print(\"Минимальный возраст избирателя:\", min_age)\n",
        "print(\"Максимальный возраст избирателя:\", max_age)\n",
        "\n",
        "# Среднее количество просмотров новостей в неделю\n",
        "mean_news_views = df['news'].mean()\n",
        "print(\"Среднее количество просмотров новостей в неделю:\", round(mean_news_views, 1))\n",
        "\n",
        "# Проверка на пропущенные значения\n",
        "missing_values = df.isnull().sum().sum()\n",
        "if missing_values == 0:\n",
        "    print(\"Пропущенных значений нет.\")\n",
        "else:\n",
        "    print(\"Количество пропущенных значений:\", missing_values)\n"
      ]
    },
    {
      "cell_type": "markdown",
      "metadata": {
        "id": "RMerTMKXLA9f"
      },
      "source": [
        "## 2. Обработка данных\n",
        "\n",
        "Необходимо настроить датасет для дальнейшего использования. Сделайте следующее:\n",
        "\n",
        "*   Переименуйте столбец `educ` в `education`.\n",
        "*   Создайте новый столбец `party` на основе ответов каждого респондента в `PID`. `party` должен быть равен `Democrat`, если респондент выбрал или Strong Democrat, или Weak Democrat. `party` должен быть равен `Republican`, если респондент выбрал Strong или Weak Republican в `PID` и `Independent` во всех остальных случаях.\n",
        "*   Создайте новый столбец `age_group`, который объединяет респондентов по следующим категориям на основе их возраста `age`: 18-24, 25-34, 35-44, 45-54, 55-64, и 65+."
      ]
    },
    {
      "cell_type": "code",
      "execution_count": null,
      "metadata": {
        "id": "QaxRXEVULDGn"
      },
      "outputs": [
        {
          "ename": "",
          "evalue": "",
          "output_type": "error",
          "traceback": [
            "\u001b[1;31mThe kernel failed to start as '_psutil_linux' could not be imported from 'most likely due to a circular import'.\n",
            "Click <a href='https://aka.ms/kernelFailuresModuleImportErrFromFile'>here</a> for more info."
          ]
        }
      ],
      "source": [
        "# Переименование столбца 'educ' в 'education'\n",
        "df.rename(columns={'educ': 'education'}, inplace=True)\n",
        "\n",
        "# Функция для создания столбца 'party' на основе столбца 'PID'\n",
        "def assign_party(row):\n",
        "    if row['PID'] in ['Strong Democrat', 'Weak Democrat']:\n",
        "        return 'Democrat'\n",
        "    elif row['PID'] in ['Strong Republican', 'Weak Republican'] or row['PID'] == 'Republican':\n",
        "        return 'Republican'\n",
        "    else:\n",
        "        return 'Independent'\n",
        "\n",
        "# Создание столбца 'party'\n",
        "df['party'] = df.apply(assign_party, axis=1)\n",
        "\n",
        "# Функция для создания столбца 'age_group' на основе столбца 'age'\n",
        "def assign_age_group(age):\n",
        "    if age >= 18 and age <= 24:\n",
        "        return '18-24'\n",
        "    elif age >= 25 and age <= 34:\n",
        "        return '25-34'\n",
        "    elif age >= 35 and age <= 44:\n",
        "        return '35-44'\n",
        "    elif age >= 45 and age <= 54:\n",
        "        return '45-54'\n",
        "    elif age >= 55 and age <= 64:\n",
        "        return '55-64'\n",
        "    else:\n",
        "        return '65+'\n",
        "\n",
        "# Создание столбца 'age_group'\n",
        "df['age_group'] = df['age'].apply(assign_age_group)\n",
        "\n",
        "# Вывод первых 5 строк DataFrame для проверки изменений\n",
        "print(df.head())"
      ]
    },
    {
      "cell_type": "markdown",
      "metadata": {
        "id": "FaisnScALWND"
      },
      "source": [
        "## 3. Фильтрация данных\n",
        "\n",
        "* Используя фильтрацию найдите всех респондентов, кто считал Билла Клинтона умеренным или консерватором (`ClinLR` равно 4 или выше). Сколько респондентов в этом подмножестве?\n",
        "* Среди всех респондентов, сколько имеют доход ниже $50,000 и хотя бы посещали колледж?"
      ]
    },
    {
      "cell_type": "code",
      "execution_count": null,
      "metadata": {
        "id": "eX5t91r1BJ3k"
      },
      "outputs": [
        {
          "ename": "",
          "evalue": "",
          "output_type": "error",
          "traceback": [
            "\u001b[1;31mThe kernel failed to start as '_psutil_linux' could not be imported from 'most likely due to a circular import'.\n",
            "Click <a href='https://aka.ms/kernelFailuresModuleImportErrFromFile'>here</a> for more info."
          ]
        }
      ],
      "source": [
        "# Найдем всех респондентов, которые считали Билла Клинтона умеренным или консерватором (ClinLR равно 4 или выше)\n",
        "clinton_moderate_conservative = df[(df['ClinLR'] >= 4)]\n",
        "\n",
        "# Подсчитаем количество респондентов в этом подмножестве\n",
        "num_clinton_moderate_conservative = len(clinton_moderate_conservative)\n",
        "\n",
        "print(\"Количество респондентов, считающих Билла Клинтона умеренным или консерватором:\", num_clinton_moderate_conservative)\n",
        "\n",
        "# Найдем всех респондентов, у которых доход ниже $50,000 и хотя бы посещали колледж (income < 50000 и education > 12)\n",
        "low_income_college_attended = df[(df['income'] < 50000) & (df['education'] > 12)]\n",
        "\n",
        "# Подсчитаем количество респондентов в этом подмножестве\n",
        "num_low_income_college_attended = len(low_income_college_attended)\n",
        "\n",
        "print(\"Количество респондентов с доходом ниже $50,000 и хотя бы посещавших колледж:\", num_low_income_college_attended)"
      ]
    },
    {
      "cell_type": "markdown",
      "metadata": {
        "id": "g5GzVjqdLe82"
      },
      "source": [
        "## 4. Вычисления на основе данных\n",
        "\n",
        "Для каждого из следующих сочетаний выберите группу, которая более вероятно проголосует за Билла Клинтона. Вы можете это вычислить используя долю каждой группы, которая намерена голосовать за Клинтона (`vote`). Какое сочетание имеет наименьшую разницу, а какое наибольшую?\n",
        "\n",
        "\n",
        "*   Демократы или республиканцы\n",
        "*   Люди младше 44 или люди старше 44 лет и старше\n",
        "*   Люди, которые смотрят новости по меньшей мере 6 дней в неделю, или, которые смотрят менее 3 дней в неделю\n",
        "*   Люди живущие там, где население меньше чем у среднего респондента, или там, где равно и больше\n"
      ]
    },
    {
      "cell_type": "code",
      "execution_count": null,
      "metadata": {
        "id": "68hj5Vs6Lhz5"
      },
      "outputs": [
        {
          "ename": "",
          "evalue": "",
          "output_type": "error",
          "traceback": [
            "\u001b[1;31mThe kernel failed to start as '_psutil_linux' could not be imported from 'most likely due to a circular import'.\n",
            "Click <a href='https://aka.ms/kernelFailuresModuleImportErrFromFile'>here</a> for more info."
          ]
        }
      ],
      "source": [
        "# Your code here\n",
        "clinton_votes = df.groupby('vote')['vote'].value_counts()\n",
        "clinton_percentages = clinton_votes / df['vote'].value_counts()\n",
        "pairs = [\n",
        "    ('Democrat', 'Republican'),\n",
        "    ('Age < 44', 'Age >= 44'),\n",
        "    ('Watch News >= 6 days', 'Watch News < 3 days'),\n",
        "    ('Population < Mean', 'Population >= Mean'),\n",
        "]\n",
        "min_difference = None\n",
        "max_difference = None\n",
        "\n",
        "for pair1, pair2 in pairs:\n",
        "    group1_data = df[df['group'] == pair1]\n",
        "    group2_data = df[df['group'] == pair2]\n",
        "    group1_percentage = clinton_percentages['Clinton']\n",
        "    group2_percentage = clinton_percentages['Clinton']\n",
        "    difference = abs(group1_percentage - group2_percentage)\n",
        "    if min_difference is None or difference < min_difference:\n",
        "        min_difference = difference\n",
        "        min_pair = (pair1, pair2)\n",
        "    if max_difference is None or difference > max_difference:\n",
        "        max_difference = difference\n",
        "        max_pair = (pair1, pair2)\n",
        "print(f\"Пара с наименьшей разницей в доле голосов за Клинтона: {min_pair}, разница: {min_difference:.2f}\")\n",
        "print(f\"Пара с наибольшей разницей в доле голосов за Клинтона: {max_pair}, разница: {max_difference:.2f}\")"
      ]
    },
    {
      "cell_type": "markdown",
      "metadata": {
        "id": "Q68i6UUQLZrT"
      },
      "source": [
        "## 5. Группировка данных\n",
        "\n",
        "Используя метод `groupby()` объедините респондентов по `age_group`. Какая возрастная группа сама консервативная? Какая меньше всех смотрит новости?\n",
        "\n",
        "Далее, рассчитайте 5-процентильные группы в зависимости от дохода. Сгруппируйте набор данных по этим процентилям. Какая группа доходов является наиболее либеральной? Какая самой консервативной? Старейшей? Наиболее образованной?"
      ]
    },
    {
      "cell_type": "code",
      "execution_count": null,
      "metadata": {
        "id": "eNrBrx6-LcBn"
      },
      "outputs": [],
      "source": [
        "# Your code here\n",
        "age_groups = df.groupby('age_group')\n",
        "most_conservative_age_group = age_groups['political_view'].idxmin()\n",
        "print(f\"Самая консервативная возрастная группа: {most_conservative_age_group}\")\n",
        "\n",
        "least_news_watching_age_group = age_groups['watch_news'].idxmin()\n",
        "print(f\"Группа, которая наименее смотрит новости: {least_news_watching_age_group}\")\n",
        "\n",
        "income_percentiles = pd.qcut(df['income'], 5)\n",
        "income_groups = df.groupby(income_percentiles)\n",
        "most_liberal_income_group = income_groups['political_view'].idxmax()\n",
        "print(f\"Самая либеральная группа дохода: {most_liberal_income_group}\")\n",
        "\n",
        "most_conservative_income_group = income_groups['political_view'].idxmin()\n",
        "print(f\"Самая консервативная группа дохода: {most_conservative_income_group}\")\n",
        "\n",
        "oldest_income_group = income_groups['age'].idxmax()\n",
        "print(f\"Самая старая группа дохода: {oldest_income_group}\")\n",
        "\n",
        "most_educated_income_group = income_groups['education'].idxmax()\n",
        "print(f\"Самая образованная группа дохода: {most_educated_income_group}\")"
      ]
    },
    {
      "cell_type": "markdown",
      "metadata": {
        "id": "_ySpfyk-LSUS"
      },
      "source": [
        "## 6. Голосование вне логики\n",
        "\n",
        "Вам интересно узнать больше о респондентах, чьи политические взгляды сильно отличаются от кандидата, за которого они планируют голосовать. Используя `selfLR`, `vote`, `ClinLR`, и `DoleLR`, ответьте на следующие вопросы:\n",
        "\n",
        "*   Какая наибольшая известная разница между политическими взглядами респондента и его кандидата?\n",
        "*   Сколько респондентов показали такую разницу?\n",
        "*   Сделайте отдельный DataFrame `sway`, который включает только избирателей, которые демонстрируют разницу более $|3|$.\n",
        "*   В `sway`, больше респондентов голосующих за более либерального или более консервативного кандидата, чем они сами?\n",
        "*   В `sway`, какой кандидат наиболее популярен?"
      ]
    },
    {
      "cell_type": "code",
      "execution_count": null,
      "metadata": {
        "id": "pIFQCKBcLX9z"
      },
      "outputs": [],
      "source": [
        "# Your code here\n",
        "df['ClinLR_diff'] = abs(df['selfLR'] - df['ClinLR'])\n",
        "df['DoleLR_diff'] = abs(df['selfLR'] - df['DoleLR'])\n",
        "max_diff = max(df['ClinLR_diff'].max(), df['DoleLR_diff'].max())\n",
        "print(f\"Наибольшая разница: {max_diff}\")\n",
        "\n",
        "diff_3_or_more = (df['ClinLR_diff'] >= 3) | (df['DoleLR_diff'] >= 3)\n",
        "count_diff_3_or_more = diff_3_or_more.sum()\n",
        "print(f\"Количество респондентов с разницей >= 3: {count_diff_3_or_more}\")\n",
        "\n",
        "sway = df[diff_3_or_more]\n",
        "\n",
        "clinton_votes_sway = sway[sway['vote'] == 'Clinton'].shape[0]\n",
        "dole_votes_sway = sway[sway['vote'] == 'Dole'].shape[0]\n",
        "\n",
        "more_votes = 'Clinton' if clinton_votes_sway > dole_votes_sway else 'Dole'\n",
        "less_votes = 'Clinton' if clinton_votes_sway < dole_votes_sway else 'Dole'\n",
        "\n",
        "print(f\"В sway больше голосов за: {more_votes} ({clinton_votes_sway} голосов)\")\n",
        "print(f\"В sway меньше голосов за: {less_votes} ({dole_votes_sway} голосов)\")\n",
        "\n",
        "most_popular_candidate = sway['vote'].mode()[0]\n",
        "print(f\"Самый популярный кандидат в sway: {most_popular_candidate}\")"
      ]
    }
  ],
  "metadata": {
    "colab": {
      "provenance": []
    },
    "kernelspec": {
      "display_name": "Python 3.9.5 64-bit",
      "language": "python",
      "name": "python3"
    },
    "language_info": {
      "codemirror_mode": {
        "name": "ipython",
        "version": 3
      },
      "file_extension": ".py",
      "mimetype": "text/x-python",
      "name": "python",
      "nbconvert_exporter": "python",
      "pygments_lexer": "ipython3",
      "version": "3.9.5"
    },
    "vscode": {
      "interpreter": {
        "hash": "f9f85f796d01129d0dd105a088854619f454435301f6ffec2fea96ecbd9be4ac"
      }
    }
  },
  "nbformat": 4,
  "nbformat_minor": 0
}
